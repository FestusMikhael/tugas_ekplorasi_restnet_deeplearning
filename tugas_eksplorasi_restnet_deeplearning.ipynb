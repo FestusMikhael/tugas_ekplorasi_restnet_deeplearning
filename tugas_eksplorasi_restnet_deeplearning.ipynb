{
  "nbformat": 4,
  "nbformat_minor": 0,
  "metadata": {
    "colab": {
      "provenance": [],
      "gpuType": "T4"
    },
    "kernelspec": {
      "name": "python3",
      "display_name": "Python 3"
    },
    "language_info": {
      "name": "python"
    },
    "accelerator": "GPU"
  },
  "cells": [
    {
      "cell_type": "code",
      "source": [
        "from google.colab import drive\n",
        "drive.mount('/content/drive')"
      ],
      "metadata": {
        "colab": {
          "base_uri": "https://localhost:8080/"
        },
        "id": "9-xHTqgrd975",
        "outputId": "8b235097-c8bc-4faa-cc9c-b7a912b4f1b4"
      },
      "execution_count": 1,
      "outputs": [
        {
          "output_type": "stream",
          "name": "stdout",
          "text": [
            "Drive already mounted at /content/drive; to attempt to forcibly remount, call drive.mount(\"/content/drive\", force_remount=True).\n"
          ]
        }
      ]
    },
    {
      "cell_type": "code",
      "source": [
        "!pip install torchinfo"
      ],
      "metadata": {
        "colab": {
          "base_uri": "https://localhost:8080/"
        },
        "id": "xS5Vzwf1crgs",
        "outputId": "5c17742e-90d5-4c1a-a518-eb6897665a44"
      },
      "execution_count": 2,
      "outputs": [
        {
          "output_type": "stream",
          "name": "stdout",
          "text": [
            "Requirement already satisfied: torchinfo in /usr/local/lib/python3.12/dist-packages (1.8.0)\n"
          ]
        }
      ]
    },
    {
      "cell_type": "code",
      "source": [
        "import torch\n",
        "import torch.nn as nn\n",
        "import torch.optim as optim\n",
        "import time\n",
        "\n",
        "# --- 1. Definisi Residual Block (BasicBlock) ---\n",
        "class BasicBlock(nn.Module):\n",
        "    expansion = 1\n",
        "\n",
        "    def __init__(self, in_channels, out_channels, stride=1):\n",
        "        super(BasicBlock, self).__init__()\n",
        "\n",
        "        # 1. Konvolusi 3x3 pertama\n",
        "        self.conv1 = nn.Conv2d(in_channels, out_channels, kernel_size=3, stride=stride, padding=1, bias=False)\n",
        "        self.bn1 = nn.BatchNorm2d(out_channels)\n",
        "\n",
        "        # 2. Konvolusi 3x3 kedua\n",
        "        self.conv2 = nn.Conv2d(out_channels, out_channels, kernel_size=3, stride=1, padding=1, bias=False)\n",
        "        self.bn2 = nn.BatchNorm2d(out_channels)\n",
        "\n",
        "        self.relu = nn.ReLU(inplace=True)\n",
        "\n",
        "        # Residual Connection / Shortcut Path\n",
        "        self.shortcut = nn.Sequential()\n",
        "\n",
        "        # Jika dimensi input (in_channels) dan output (out_channels) berbeda,\n",
        "        # atau ada downsampling (stride > 1), kita harus mengubah dimensi shortcut\n",
        "        if stride != 1 or in_channels != self.expansion * out_channels:\n",
        "            self.shortcut = nn.Sequential(\n",
        "                nn.Conv2d(in_channels, self.expansion * out_channels, kernel_size=1, stride=stride, bias=False),\n",
        "                nn.BatchNorm2d(self.expansion * out_channels)\n",
        "            )\n",
        "\n",
        "    def forward(self, x):\n",
        "        identity = x # Simpan input untuk Residual Connection\n",
        "\n",
        "        out = self.relu(self.bn1(self.conv1(x)))\n",
        "        out = self.bn2(self.conv2(out))\n",
        "\n",
        "        # Penambahan Residual: Output + Shortcut(Input)\n",
        "        out += self.shortcut(identity)\n",
        "        out = self.relu(out)\n",
        "\n",
        "        return out\n",
        "\n",
        "# --- 2. Definisi Model ResNet-34 ---\n",
        "# Struktur ResNet ini sama persis dengan Plain34,\n",
        "# hanya saja menggunakan BasicBlock (yang memiliki residual connection).\n",
        "class ResNet34(nn.Module):\n",
        "    def __init__(self, block, num_blocks, num_classes=1000):\n",
        "        super(ResNet34, self).__init__()\n",
        "        self.in_channels = 64\n",
        "\n",
        "        # Lapisan awal\n",
        "        self.conv1 = nn.Conv2d(3, 64, kernel_size=7, stride=2, padding=3, bias=False)\n",
        "        self.bn1 = nn.BatchNorm2d(64)\n",
        "        self.relu = nn.ReLU(inplace=True)\n",
        "        self.maxpool = nn.MaxPool2d(kernel_size=3, stride=2, padding=1)\n",
        "\n",
        "        # Lapisan-lapisan utama (Stages)\n",
        "        self.layer1 = self._make_layer(block, 64, num_blocks[0], stride=1)\n",
        "        self.layer2 = self._make_layer(block, 128, num_blocks[1], stride=2)\n",
        "        self.layer3 = self._make_layer(block, 256, num_blocks[2], stride=2)\n",
        "        self.layer4 = self._make_layer(block, 512, num_blocks[3], stride=2)\n",
        "\n",
        "        # Lapisan akhir\n",
        "        self.avgpool = nn.AdaptiveAvgPool2d((1, 1))\n",
        "        self.fc = nn.Linear(512 * block.expansion, num_classes)\n",
        "\n",
        "        # Inisialisasi bobot\n",
        "        for m in self.modules():\n",
        "            if isinstance(m, nn.Conv2d):\n",
        "                nn.init.kaiming_normal_(m.weight, mode='fan_out', nonlinearity='relu')\n",
        "            elif isinstance(m, (nn.BatchNorm2d, nn.GroupNorm)):\n",
        "                nn.init.constant_(m.weight, 1)\n",
        "                nn.init.constant_(m.bias, 0)\n",
        "\n",
        "    def _make_layer(self, block, out_channels, num_blocks, stride):\n",
        "        layers = []\n",
        "        # Tambahkan blok pertama dengan downsampling (jika stride > 1 atau dimensi berubah)\n",
        "        layers.append(block(self.in_channels, out_channels, stride))\n",
        "        self.in_channels = out_channels * block.expansion\n",
        "\n",
        "        # Tambahkan blok sisanya\n",
        "        for _ in range(1, num_blocks):\n",
        "            layers.append(block(self.in_channels, out_channels, 1))\n",
        "\n",
        "        return nn.Sequential(*layers)\n",
        "\n",
        "    def forward(self, x):\n",
        "        x = self.maxpool(self.relu(self.bn1(self.conv1(x))))\n",
        "\n",
        "        x = self.layer1(x)\n",
        "        x = self.layer2(x)\n",
        "        x = self.layer3(x)\n",
        "        x = self.layer4(x)\n",
        "\n",
        "        x = self.avgpool(x)\n",
        "        x = torch.flatten(x, 1)\n",
        "        x = self.fc(x)\n",
        "\n",
        "        return x\n",
        "\n",
        "def create_resnet34(num_classes=5):\n",
        "    \"\"\"Fungsi pembangun untuk ResNet-34\"\"\"\n",
        "    # [3, 4, 6, 3] adalah jumlah blok untuk ResNet-34\n",
        "    return ResNet34(BasicBlock, [3, 4, 6, 3], num_classes=num_classes)\n",
        "\n",
        "print(\"Cell 1: Definisi Model ResNet-34 Selesai.\")"
      ],
      "metadata": {
        "colab": {
          "base_uri": "https://localhost:8080/"
        },
        "id": "TueLN5lTg_0Y",
        "outputId": "938e0ebd-4ba2-4bc6-c3cb-c4f7f240aad7"
      },
      "execution_count": 3,
      "outputs": [
        {
          "output_type": "stream",
          "name": "stdout",
          "text": [
            "Cell 1: Definisi Model ResNet-34 Selesai.\n"
          ]
        }
      ]
    },
    {
      "cell_type": "code",
      "source": [
        "import os\n",
        "import torch\n",
        "import torch.nn as nn\n",
        "from torchvision import transforms\n",
        "from torch.utils.data import DataLoader, Dataset, random_split\n",
        "from PIL import Image\n",
        "import pandas as pd\n",
        "from google.colab import drive\n",
        "\n",
        "# 1. MOUNT GOOGLE DRIVE\n",
        "drive.mount('/content/drive')\n",
        "print(\"Google Drive berhasil di-mount.\")\n",
        "\n",
        "# 2. KONFIGURASI HYPERPARAMETER\n",
        "HYPERPARAMS = {\n",
        "    'learning_rate': 0.01,\n",
        "    'batch_size': 16,\n",
        "    'num_epochs': 10,\n",
        "    'momentum': 0.9,\n",
        "    'weight_decay': 1e-4,\n",
        "    'num_classes': 5,\n",
        "    'input_size': 224,\n",
        "    'dataset_path': '/content/drive/MyDrive/IF25-4041-dataset', # PATH ANDA\n",
        "}\n",
        "\n",
        "DEVICE = torch.device(\"cuda:0\" if torch.cuda.is_available() else \"cpu\")\n",
        "print(f\"Menggunakan device: {DEVICE}\")\n",
        "\n",
        "RESULTS_DIR = '/content/drive/MyDrive/Model_Results'\n",
        "os.makedirs(RESULTS_DIR, exist_ok=True)\n",
        "\n",
        "# 3. TRANSFORMASI DATA\n",
        "data_transforms = {\n",
        "    'train': transforms.Compose([\n",
        "        transforms.RandomResizedCrop(HYPERPARAMS['input_size']),\n",
        "        transforms.RandomHorizontalFlip(),\n",
        "        transforms.ToTensor(),\n",
        "        transforms.Normalize([0.485, 0.456, 0.406], [0.229, 0.224, 0.225])\n",
        "    ]),\n",
        "    'val': transforms.Compose([\n",
        "        transforms.Resize(256),\n",
        "        transforms.CenterCrop(HYPERPARAMS['input_size']),\n",
        "        transforms.ToTensor(),\n",
        "        transforms.Normalize([0.485, 0.456, 0.406], [0.229, 0.224, 0.225])\n",
        "    ]),\n",
        "}\n",
        "\n",
        "# 4. CUSTOM DATASET (MEMBACA DARI CSV)\n",
        "class IndonesianFoodDataset(Dataset):\n",
        "    \"\"\"Membaca file gambar dan label dari CSV.\"\"\"\n",
        "    def __init__(self, data_root, csv_file, transform=None):\n",
        "        self.data_root = data_root\n",
        "        self.transform = transform\n",
        "\n",
        "        # Baca CSV\n",
        "        self.data_frame = pd.read_csv(csv_file)\n",
        "\n",
        "        # ASUMSI KOLOM CSV: 'filename' dan 'label'. Sesuaikan jika beda!\n",
        "        self.filenames = self.data_frame['filename'].values\n",
        "        self.labels = self.data_frame['label'].values\n",
        "\n",
        "        # Buat pemetaan label string ke integer (0, 1, 2, 3, 4)\n",
        "        unique_labels = sorted(self.data_frame['label'].unique())\n",
        "        self.label_to_idx = {label: i for i, label in enumerate(unique_labels)}\n",
        "\n",
        "        # Konversi label string di DataFrame menjadi integer index\n",
        "        self.labels = [self.label_to_idx[label] for label in self.labels]\n",
        "\n",
        "    def __len__(self):\n",
        "        return len(self.data_frame)\n",
        "\n",
        "    def __getitem__(self, idx):\n",
        "        img_name = self.filenames[idx]\n",
        "        label = self.labels[idx]\n",
        "\n",
        "        img_path = os.path.join(self.data_root, img_name)\n",
        "\n",
        "        try:\n",
        "            image = Image.open(img_path).convert('RGB')\n",
        "        except FileNotFoundError:\n",
        "            # Jika gambar tidak ada (misalnya ada di CSV tapi file tidak ada)\n",
        "            print(f\"File tidak ditemukan: {img_path}. Melewatkan.\")\n",
        "            return None, None\n",
        "\n",
        "        if self.transform:\n",
        "            image = self.transform(image)\n",
        "\n",
        "        return image, label\n",
        "\n",
        "# 5. MUAT DATASET DAN SPLIT (Train Asli -> Train & Val)\n",
        "TRAIN_DIR = os.path.join(HYPERPARAMS['dataset_path'], 'train')\n",
        "TRAIN_CSV = os.path.join(HYPERPARAMS['dataset_path'], 'train.csv')\n",
        "\n",
        "try:\n",
        "    # Muat SELURUH data training\n",
        "    full_train_dataset = IndonesianFoodDataset(\n",
        "        data_root=TRAIN_DIR,\n",
        "        csv_file=TRAIN_CSV,\n",
        "        transform=data_transforms['train']\n",
        "    )\n",
        "\n",
        "    if len(full_train_dataset) == 0:\n",
        "        raise ValueError(\"Dataset 'train' kosong. Cek 'train.csv' dan folder 'train'.\")\n",
        "\n",
        "    # Split 85% Train, 15% Val\n",
        "    train_size = int(0.85 * len(full_train_dataset))\n",
        "    val_size = len(full_train_dataset) - train_size\n",
        "\n",
        "    train_dataset, val_dataset = random_split(\n",
        "        full_train_dataset, [train_size, val_size]\n",
        "    )\n",
        "\n",
        "    train_loader = DataLoader(train_dataset, batch_size=HYPERPARAMS['batch_size'], shuffle=True, num_workers=2)\n",
        "    val_loader = DataLoader(val_dataset, batch_size=HYPERPARAMS['batch_size'], shuffle=False, num_workers=2)\n",
        "\n",
        "    print(\"\\n--- Data Loading Berhasil ---\")\n",
        "    print(f\"Total Data: {len(full_train_dataset)}\")\n",
        "    print(f\"Data Train (85%): {len(train_dataset)}\")\n",
        "    print(f\"Data Val (15%): {len(val_dataset)}\")\n",
        "\n",
        "except ValueError as e:\n",
        "    print(f\"\\n[ERROR KRITIS] {e}\")\n",
        "    print(f\"Cek path: {TRAIN_CSV} dan {TRAIN_DIR}\")\n",
        "except Exception as e:\n",
        "    print(f\"\\n[ERROR UMUM] Gagal memuat data: {e}\")\n",
        "\n",
        "print(\"Cell 2: Setup dan Data Loading Selesai.\")"
      ],
      "metadata": {
        "colab": {
          "base_uri": "https://localhost:8080/"
        },
        "id": "rN86_dWxgn2D",
        "outputId": "9332ff33-14de-420d-f7b7-4d055ccd02b7"
      },
      "execution_count": 4,
      "outputs": [
        {
          "output_type": "stream",
          "name": "stdout",
          "text": [
            "Drive already mounted at /content/drive; to attempt to forcibly remount, call drive.mount(\"/content/drive\", force_remount=True).\n",
            "Google Drive berhasil di-mount.\n",
            "Menggunakan device: cuda:0\n",
            "\n",
            "--- Data Loading Berhasil ---\n",
            "Total Data: 1108\n",
            "Data Train (85%): 941\n",
            "Data Val (15%): 167\n",
            "Cell 2: Setup dan Data Loading Selesai.\n"
          ]
        }
      ]
    },
    {
      "cell_type": "code",
      "source": [
        "import torch.optim as optim\n",
        "from torch.optim.lr_scheduler import StepLR\n",
        "import pandas as pd\n",
        "import time\n",
        "\n",
        "# --- 1. FUNGSI PELATIHAN INTU ---\n",
        "def train_model(model, criterion, optimizer, scheduler, num_epochs=25):\n",
        "    start_time = time.time()\n",
        "    history = pd.DataFrame(columns=['epoch', 'train_loss', 'train_acc', 'val_loss', 'val_acc'])\n",
        "\n",
        "    for epoch in range(num_epochs):\n",
        "        print(f\"\\nEpoch {epoch+1}/{num_epochs}\")\n",
        "        print('-' * 10)\n",
        "\n",
        "        # FASE TRAINING\n",
        "        model.train()\n",
        "        running_loss = 0.0\n",
        "        running_corrects = 0\n",
        "\n",
        "        for inputs, labels in train_loader:\n",
        "            inputs = inputs.to(DEVICE)\n",
        "            labels = labels.to(DEVICE)\n",
        "\n",
        "            optimizer.zero_grad()\n",
        "\n",
        "            with torch.set_grad_enabled(True):\n",
        "                outputs = model(inputs)\n",
        "                _, preds = torch.max(outputs, 1)\n",
        "                loss = criterion(outputs, labels)\n",
        "\n",
        "                loss.backward()\n",
        "                optimizer.step()\n",
        "\n",
        "            running_loss += loss.item() * inputs.size(0)\n",
        "            running_corrects += torch.sum(preds == labels.data)\n",
        "\n",
        "        scheduler.step()\n",
        "\n",
        "        epoch_loss_train = running_loss / len(train_dataset)\n",
        "        epoch_acc_train = running_corrects.double() / len(train_dataset)\n",
        "\n",
        "        # FASE VALIDASI\n",
        "        model.eval()\n",
        "        running_loss_val = 0.0\n",
        "        running_corrects_val = 0\n",
        "\n",
        "        with torch.no_grad():\n",
        "            for inputs, labels in val_loader:\n",
        "                inputs = inputs.to(DEVICE)\n",
        "                labels = labels.to(DEVICE)\n",
        "\n",
        "                outputs = model(inputs)\n",
        "                _, preds = torch.max(outputs, 1)\n",
        "                loss = criterion(outputs, labels)\n",
        "\n",
        "                running_loss_val += loss.item() * inputs.size(0)\n",
        "                running_corrects_val += torch.sum(preds == labels.data)\n",
        "\n",
        "        epoch_loss_val = running_loss_val / len(val_dataset)\n",
        "        epoch_acc_val = running_corrects_val.double() / len(val_dataset)\n",
        "\n",
        "        print(f\"Train Loss: {epoch_loss_train:.4f} | Train Acc: {epoch_acc_train:.4f}\")\n",
        "        print(f\"Val Loss: {epoch_loss_val:.4f} | Val Acc: {epoch_acc_val:.4f}\")\n",
        "\n",
        "        history.loc[epoch] = [epoch + 1, epoch_loss_train, epoch_acc_train.item(), epoch_loss_val, epoch_acc_val.item()]\n",
        "\n",
        "    time_elapsed = time.time() - start_time\n",
        "    print(f'\\nPelatihan selesai dalam {time_elapsed // 60:.0f}m {time_elapsed % 60:.0f}s')\n",
        "\n",
        "    return model, history\n",
        "\n",
        "# --- 2. INISIALISASI DAN EKSEKUSI PELATIHAN ---\n",
        "print(\"\\n\" + \"=\"*50)\n",
        "print(\"MEMULAI PELATIHAN PLAIN-34 (BASELINE)\")\n",
        "print(\"=\"*50)\n",
        "\n",
        "# Inisialisasi Model\n",
        "model = create_resnet34(num_classes=HYPERPARAMS['num_classes'])\n",
        "model.to(DEVICE)\n",
        "\n",
        "criterion = nn.CrossEntropyLoss()\n",
        "optimizer = optim.SGD(\n",
        "    model.parameters(),\n",
        "    lr=HYPERPARAMS['learning_rate'],\n",
        "    momentum=HYPERPARAMS['momentum'],\n",
        "    weight_decay=HYPERPARAMS['weight_decay']\n",
        ")\n",
        "scheduler = StepLR(optimizer, step_size=7, gamma=0.1)\n",
        "\n",
        "# Latih model\n",
        "model_plain, history_plain = train_model(\n",
        "    model,\n",
        "    criterion,\n",
        "    optimizer,\n",
        "    scheduler,\n",
        "    num_epochs=HYPERPARAMS['num_epochs']\n",
        ")\n",
        "\n",
        "# Penyimpanan Hasil\n",
        "history_path = os.path.join(RESULTS_DIR, 'restnet34_baseline_history.csv')\n",
        "history_plain.to_csv(history_path, index=False)\n",
        "torch.save(model_plain.state_dict(), os.path.join(RESULTS_DIR, 'restnet34_baseline.pth'))\n",
        "\n",
        "print(\"\\n\" + \"=\"*50)\n",
        "print(\"PELATIHAN BASELINE SELESAI!\")\n",
        "print(f\"History dan bobot model disimpan di: {RESULTS_DIR}\")\n",
        "print(\"=\"*50)"
      ],
      "metadata": {
        "colab": {
          "base_uri": "https://localhost:8080/"
        },
        "id": "QL3ta-gCgq_k",
        "outputId": "a85006d8-5502-4aca-b14c-0e005f882d64"
      },
      "execution_count": 5,
      "outputs": [
        {
          "output_type": "stream",
          "name": "stdout",
          "text": [
            "\n",
            "==================================================\n",
            "MEMULAI PELATIHAN PLAIN-34 (BASELINE)\n",
            "==================================================\n",
            "\n",
            "Epoch 1/10\n",
            "----------\n"
          ]
        },
        {
          "output_type": "stream",
          "name": "stderr",
          "text": [
            "/usr/local/lib/python3.12/dist-packages/PIL/Image.py:1047: UserWarning: Palette images with Transparency expressed in bytes should be converted to RGBA images\n",
            "  warnings.warn(\n"
          ]
        },
        {
          "output_type": "stream",
          "name": "stdout",
          "text": [
            "Train Loss: 2.0757 | Train Acc: 0.2848\n",
            "Val Loss: 5.2248 | Val Acc: 0.3054\n",
            "\n",
            "Epoch 2/10\n",
            "----------\n"
          ]
        },
        {
          "output_type": "stream",
          "name": "stderr",
          "text": [
            "/usr/local/lib/python3.12/dist-packages/PIL/Image.py:1047: UserWarning: Palette images with Transparency expressed in bytes should be converted to RGBA images\n",
            "  warnings.warn(\n"
          ]
        },
        {
          "output_type": "stream",
          "name": "stdout",
          "text": [
            "Train Loss: 1.5930 | Train Acc: 0.3826\n",
            "Val Loss: 1.3169 | Val Acc: 0.4371\n",
            "\n",
            "Epoch 3/10\n",
            "----------\n"
          ]
        },
        {
          "output_type": "stream",
          "name": "stderr",
          "text": [
            "/usr/local/lib/python3.12/dist-packages/PIL/Image.py:1047: UserWarning: Palette images with Transparency expressed in bytes should be converted to RGBA images\n",
            "  warnings.warn(\n"
          ]
        },
        {
          "output_type": "stream",
          "name": "stdout",
          "text": [
            "Train Loss: 1.3934 | Train Acc: 0.4623\n",
            "Val Loss: 1.5700 | Val Acc: 0.4671\n",
            "\n",
            "Epoch 4/10\n",
            "----------\n"
          ]
        },
        {
          "output_type": "stream",
          "name": "stderr",
          "text": [
            "/usr/local/lib/python3.12/dist-packages/PIL/Image.py:1047: UserWarning: Palette images with Transparency expressed in bytes should be converted to RGBA images\n",
            "  warnings.warn(\n"
          ]
        },
        {
          "output_type": "stream",
          "name": "stdout",
          "text": [
            "Train Loss: 1.2064 | Train Acc: 0.5197\n",
            "Val Loss: 1.1064 | Val Acc: 0.5389\n",
            "\n",
            "Epoch 5/10\n",
            "----------\n"
          ]
        },
        {
          "output_type": "stream",
          "name": "stderr",
          "text": [
            "/usr/local/lib/python3.12/dist-packages/PIL/Image.py:1047: UserWarning: Palette images with Transparency expressed in bytes should be converted to RGBA images\n",
            "  warnings.warn(\n"
          ]
        },
        {
          "output_type": "stream",
          "name": "stdout",
          "text": [
            "Train Loss: 1.1605 | Train Acc: 0.5632\n",
            "Val Loss: 1.4067 | Val Acc: 0.5868\n",
            "\n",
            "Epoch 6/10\n",
            "----------\n"
          ]
        },
        {
          "output_type": "stream",
          "name": "stderr",
          "text": [
            "/usr/local/lib/python3.12/dist-packages/PIL/Image.py:1047: UserWarning: Palette images with Transparency expressed in bytes should be converted to RGBA images\n",
            "  warnings.warn(\n"
          ]
        },
        {
          "output_type": "stream",
          "name": "stdout",
          "text": [
            "Train Loss: 1.3231 | Train Acc: 0.5122\n",
            "Val Loss: 1.5365 | Val Acc: 0.4790\n",
            "\n",
            "Epoch 7/10\n",
            "----------\n"
          ]
        },
        {
          "output_type": "stream",
          "name": "stderr",
          "text": [
            "/usr/local/lib/python3.12/dist-packages/PIL/Image.py:1047: UserWarning: Palette images with Transparency expressed in bytes should be converted to RGBA images\n",
            "  warnings.warn(\n"
          ]
        },
        {
          "output_type": "stream",
          "name": "stdout",
          "text": [
            "Train Loss: 1.1722 | Train Acc: 0.5622\n",
            "Val Loss: 1.0820 | Val Acc: 0.6287\n",
            "\n",
            "Epoch 8/10\n",
            "----------\n"
          ]
        },
        {
          "output_type": "stream",
          "name": "stderr",
          "text": [
            "/usr/local/lib/python3.12/dist-packages/PIL/Image.py:1047: UserWarning: Palette images with Transparency expressed in bytes should be converted to RGBA images\n",
            "  warnings.warn(\n"
          ]
        },
        {
          "output_type": "stream",
          "name": "stdout",
          "text": [
            "Train Loss: 0.9986 | Train Acc: 0.6206\n",
            "Val Loss: 0.8272 | Val Acc: 0.6467\n",
            "\n",
            "Epoch 9/10\n",
            "----------\n"
          ]
        },
        {
          "output_type": "stream",
          "name": "stderr",
          "text": [
            "/usr/local/lib/python3.12/dist-packages/PIL/Image.py:1047: UserWarning: Palette images with Transparency expressed in bytes should be converted to RGBA images\n",
            "  warnings.warn(\n"
          ]
        },
        {
          "output_type": "stream",
          "name": "stdout",
          "text": [
            "Train Loss: 0.9560 | Train Acc: 0.6312\n",
            "Val Loss: 0.8375 | Val Acc: 0.6407\n",
            "\n",
            "Epoch 10/10\n",
            "----------\n"
          ]
        },
        {
          "output_type": "stream",
          "name": "stderr",
          "text": [
            "/usr/local/lib/python3.12/dist-packages/PIL/Image.py:1047: UserWarning: Palette images with Transparency expressed in bytes should be converted to RGBA images\n",
            "  warnings.warn(\n"
          ]
        },
        {
          "output_type": "stream",
          "name": "stdout",
          "text": [
            "Train Loss: 0.9201 | Train Acc: 0.6631\n",
            "Val Loss: 0.8406 | Val Acc: 0.6647\n",
            "\n",
            "Pelatihan selesai dalam 4m 20s\n",
            "\n",
            "==================================================\n",
            "PELATIHAN BASELINE SELESAI!\n",
            "History dan bobot model disimpan di: /content/drive/MyDrive/Model_Results\n",
            "==================================================\n"
          ]
        }
      ]
    }
  ]
}